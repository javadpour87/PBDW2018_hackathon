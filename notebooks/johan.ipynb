{
 "cells": [
  {
   "cell_type": "markdown",
   "metadata": {},
   "source": [
    "# SPARQL queries & tests"
   ]
  },
  {
   "cell_type": "code",
   "execution_count": 1,
   "metadata": {},
   "outputs": [
    {
     "data": {
      "application/vnd.jupyter.widget-view+json": {
       "model_id": "07eba916ec944337ac400a356eea562a",
       "version_major": 2,
       "version_minor": 0
      },
      "text/plain": [
       "VkJveChjaGlsZHJlbj0oSEJveChjaGlsZHJlbj0oVGV4dGFyZWEodmFsdWU9dSdTRUxFQ1QgaWQsIGdlbmRlciwgZGlhZ25vc2lzLCBkb3NlX3BsYW5uZWQsIG1sZCwgZDk1IEZST00gZXhwb3LigKY=\n"
      ]
     },
     "metadata": {},
     "output_type": "display_data"
    },
    {
     "name": "stdout",
     "output_type": "stream",
     "text": [
      "Update executed. Please load this page again to make sure changes have applied to the database\n",
      "Update executed. Please load this page again to make sure changes have applied to the database\n"
     ]
    }
   ],
   "source": [
    "from r2rmlQueryEditor import R2RMLQueryEditor\n",
    "import ipywidgets as widgets\n",
    "\n",
    "r2rmlEditor = R2RMLQueryEditor(\"http://sparql.tst.cancerdata.org/repositories/r2rml\")\n",
    "widgets.VBox(r2rmlEditor.runInterface())"
   ]
  },
  {
   "cell_type": "code",
   "execution_count": null,
   "metadata": {},
   "outputs": [],
   "source": []
  }
 ],
 "metadata": {
  "kernelspec": {
   "display_name": "Python 2",
   "language": "python",
   "name": "python2"
  },
  "language_info": {
   "codemirror_mode": {
    "name": "ipython",
    "version": 2
   },
   "file_extension": ".py",
   "mimetype": "text/x-python",
   "name": "python",
   "nbconvert_exporter": "python",
   "pygments_lexer": "ipython2",
   "version": "2.7.14"
  }
 },
 "nbformat": 4,
 "nbformat_minor": 2
}
