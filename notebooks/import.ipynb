{
 "cells": [
  {
   "cell_type": "markdown",
   "metadata": {},
   "source": [
    "# Data import\n",
    "\n",
    "To start the database used in this notebook, please run `docker run -d --name pgData -p 5432:5432 postgres:latest`\n",
    "\n",
    "To stop the database (and remove it), run `docker stop pgData && docker rm pgData`\n",
    "\n",
    "To connect and get a terminal to the postgres docker, run `docker exec -it pbdw2018_hackathon-master_data_postgres_1 /bin/bash`\n",
    "\n",
    "You can then do things like\n",
    "\n",
    "dropdb mydata -U postgres\n",
    "\n",
    "or\n",
    "\n",
    "psql postgres -U postgres\n"
   ]
  },
  {
   "cell_type": "code",
   "execution_count": 1,
   "metadata": {},
   "outputs": [
    {
     "name": "stdout",
     "output_type": "stream",
     "text": [
      "Error while dropping database, perhaps it does not exist?\n"
     ]
    }
   ],
   "source": [
    "import psycopg2\n",
    "from psycopg2.extensions import ISOLATION_LEVEL_AUTOCOMMIT\n",
    "import csv\n",
    "\n",
    "# Connect to an existing database\n",
    "try:\n",
    "    conn = psycopg2.connect(\"host=postgresdb user=postgres password=postgres\")\n",
    "except:\n",
    "    print (\"Error:  unable to connect to the database\")\n",
    "conn.set_isolation_level(ISOLATION_LEVEL_AUTOCOMMIT)\n",
    "\n",
    "# Open a cursor to perform database operations\n",
    "cur = conn.cursor()\n",
    "\n",
    "# Execute a command to end all connections to the db\n",
    "try:\n",
    "    cur.execute(\"SELECT pg_terminate_backend(pg_stat_activity.pid) FROM pg_stat_activity WHERE pg_stat_activity.datname = 'mydata' AND pid <> pg_backend_pid();\")\n",
    "except:\n",
    "    print(\"Error killing database connections, perhaps it does not exist?\")\n",
    "    \n",
    "# Execute a command to drop the table\n",
    "try:\n",
    "    cur.execute(\"DROP DATABASE mydata\")\n",
    "except:\n",
    "    print(\"Error while dropping database, perhaps it does not exist?\")\n",
    "\n",
    "# Execute a command to create a new table\n",
    "try:\n",
    "    cur.execute(\"CREATE DATABASE mydata;\")\n",
    "except:\n",
    "    print(\"Error while creating database, does it already exist?\")\n",
    "# Close database connection\n",
    "conn.close()"
   ]
  },
  {
   "cell_type": "code",
   "execution_count": 2,
   "metadata": {},
   "outputs": [],
   "source": [
    "# Connect to an existing database\n",
    "conn = psycopg2.connect(\"host=postgresdb user=postgres dbname=mydata password=postgres\")\n",
    "conn.set_isolation_level(ISOLATION_LEVEL_AUTOCOMMIT)\n",
    "# Open a cursor to perform database operations\n",
    "cur = conn.cursor()\n",
    "# Execute a command: this creates a new table\n",
    "try:\n",
    "    cur.execute(\"\"\"CREATE TABLE PBDWHackathon2018 (\n",
    "    ID text PRIMARY KEY,\n",
    "    PatientID text,\n",
    "    Age text,\n",
    "    Clinical_T_Stage text,\n",
    "    Clinical_N_Stage text,\n",
    "    Clinical_M_Stage text,\n",
    "    Overall_Stage text,\n",
    "    Histology text,\n",
    "    Gender text,\n",
    "    SurvivalTime text,\n",
    "    DeadStatus text\n",
    "    );\n",
    "    \"\"\")\n",
    "except:\n",
    "    print(\"Error while creating table, does it already exist?\")\n",
    "# Close database connection\n",
    "conn.close()"
   ]
  },
  {
   "cell_type": "code",
   "execution_count": 3,
   "metadata": {},
   "outputs": [],
   "source": [
    "import pandas\n",
    "# Connect to an existing database\n",
    "conn = psycopg2.connect(\"host=postgresdb user=postgres dbname=mydata password=postgres\")\n",
    "cur = conn.cursor()\n",
    "\n",
    "#open CSV file\n",
    "df = pandas.read_csv('Lung1Clinical.csv')\n",
    "for index, row in df.iterrows():\n",
    "    #print(str(index) + \" | \" + row.Idfu)\n",
    "    #cur.execute\n",
    "    cur.execute(\"\"\"INSERT INTO PBDWHackathon2018 (ID, PatientID, Age, Clinical_T_Stage, Clinical_N_Stage, Clinical_M_Stage, Overall_Stage, Histology, Gender, SurvivalTime, DeadStatus) \n",
    "        VALUES (%s, %s, %s, %s, %s, %s, %s, %s, %s, %s, %s)\"\"\",\n",
    "          (index, row.PatientID, row.age, row[\"clinical.T.Stage\"], row[\"Clinical.N.Stage\"], row[\"Clinical.M.Stage\"], row[\"Overall.Stage\"], row.Histology, row.gender, row[\"Survival.time\"], row[\"deadstatus.event\"]))\n",
    "conn.commit()"
   ]
  },
  {
   "cell_type": "code",
   "execution_count": 4,
   "metadata": {},
   "outputs": [
    {
     "name": "stdout",
     "output_type": "stream",
     "text": [
      "('0', 'LUNG1-001', '78.7515', '2', '3', '0', 'IIIb', 'large cell', 'male', '2165', '1')\n",
      "('1', 'LUNG1-002', '83.8001', '2', '0', '0', 'I', 'squamous cell carcinoma', 'male', '155', '1')\n",
      "('2', 'LUNG1-003', '68.1807', '2', '3', '0', 'IIIb', 'large cell', 'male', '256', '1')\n",
      "('3', 'LUNG1-004', '70.8802', '2', '1', '0', 'II', 'squamous cell carcinoma', 'male', '141', '1')\n",
      "('4', 'LUNG1-005', '80.4819', '4', '2', '0', 'IIIb', 'squamous cell carcinoma', 'male', '353', '1')\n",
      "('5', 'LUNG1-006', '73.8864', '3', '1', '0', 'IIIa', 'squamous cell carcinoma', 'male', '173', '1')\n",
      "('6', 'LUNG1-007', '81.5288', '2', '2', '0', 'IIIa', 'squamous cell carcinoma', 'male', '137', '1')\n",
      "('7', 'LUNG1-008', '71.666', '2', '2', '0', 'IIIa', 'adenocarcinoma', 'male', '77', '1')\n",
      "('8', 'LUNG1-009', '56.1342', '2', '2', '0', 'IIIa', 'squamous cell carcinoma', 'male', '131', '1')\n",
      "('9', 'LUNG1-010', '71.0554', '4', '3', '0', 'IIIb', 'squamous cell carcinoma', 'female', '2119', '0')\n"
     ]
    }
   ],
   "source": [
    "# Connect to an existing database\n",
    "conn = psycopg2.connect(\"host=postgresdb user=postgres dbname=mydata password=postgres\")\n",
    "cur = conn.cursor()\n",
    "\n",
    "cur.execute(\"\"\"SELECT *\n",
    "    FROM PBDWHackathon2018;\"\"\")\n",
    "\n",
    "results = cur.fetchall()\n",
    "conn.close()\n",
    "\n",
    "for row in results:\n",
    "    print(row)"
   ]
  },
  {
   "cell_type": "code",
   "execution_count": null,
   "metadata": {},
   "outputs": [],
   "source": []
  }
 ],
 "metadata": {
  "kernelspec": {
   "display_name": "Python 2",
   "language": "python",
   "name": "python2"
  },
  "language_info": {
   "codemirror_mode": {
    "name": "ipython",
    "version": 2
   },
   "file_extension": ".py",
   "mimetype": "text/x-python",
   "name": "python",
   "nbconvert_exporter": "python",
   "pygments_lexer": "ipython2",
   "version": "2.7.15"
  }
 },
 "nbformat": 4,
 "nbformat_minor": 2
}
