{
 "cells": [
  {
   "cell_type": "markdown",
   "metadata": {},
   "source": [
    "# Data import\n",
    "\n",
    "To start the database used in this notebook, please run `docker run -d --name pgData -p 5432:5432 postgres:latest`\n",
    "\n",
    "To stop the database (and remove it), run `docker stop pgData && docker rm pgData`"
   ]
  },
  {
   "cell_type": "code",
   "execution_count": null,
   "metadata": {},
   "outputs": [],
   "source": [
    "import psycopg2\n",
    "from psycopg2.extensions import ISOLATION_LEVEL_AUTOCOMMIT\n",
    "import csv\n",
    "\n",
    "# Connect to an existing database\n",
    "conn = psycopg2.connect(\"host=postgresdb user=postgres password=postgres\")\n",
    "conn.set_isolation_level(ISOLATION_LEVEL_AUTOCOMMIT)\n",
    "# Open a cursor to perform database operations\n",
    "cur = conn.cursor()\n",
    "# Execute a command: this creates a new table\n",
    "try:\n",
    "    cur.execute(\"CREATE DATABASE mydata;\")\n",
    "except:\n",
    "    print(\"Error while creating database, does it already exist?\")\n",
    "# Close database connection\n",
    "conn.close()"
   ]
  },
  {
   "cell_type": "code",
   "execution_count": null,
   "metadata": {},
   "outputs": [],
   "source": [
    "# Connect to an existing database\n",
    "conn = psycopg2.connect(\"host=postgresdb user=postgres dbname=mydata password=postgres\")\n",
    "conn.set_isolation_level(ISOLATION_LEVEL_AUTOCOMMIT)\n",
    "# Open a cursor to perform database operations\n",
    "cur = conn.cursor()\n",
    "# Execute a command: this creates a new table\n",
    "try:\n",
    "    cur.execute(\"\"\"CREATE TABLE thunder (\n",
    "    ID text PRIMARY KEY,\n",
    "    PatientID text,\n",
    "    DoB text,\n",
    "    Date_Intake text,\n",
    "    Clinical_T_Stage text,\n",
    "    Clinical_N_Stage text,\n",
    "    Age text,\n",
    "    First_Fraction text,\n",
    "    Last_Fraction text,\n",
    "    TotalDose text,\n",
    "    surgery text,\n",
    "    surgery_type text,\n",
    "    surgery_date text,\n",
    "    Pathologic_T_stage text,\n",
    "    Pathologic_N_stage text,\n",
    "    TRG text,\n",
    "    who text,\n",
    "    Sex text);\n",
    "    \"\"\")\n",
    "except:\n",
    "    print(\"Error while creating table lung1, does it already exist?\")\n",
    "# Close database connection\n",
    "conn.close()"
   ]
  },
  {
   "cell_type": "code",
   "execution_count": null,
   "metadata": {},
   "outputs": [],
   "source": [
    "import pandas\n",
    "# Connect to an existing database\n",
    "conn = psycopg2.connect(\"host=postgresdb user=postgres dbname=mydata password=postgres\")\n",
    "cur = conn.cursor()\n",
    "\n",
    "#open CSV file\n",
    "df = pandas.read_csv('https://raw.githubusercontent.com/jvsoest/Data-Integration-Tutorial/master/data/original/thunderSubSet.csv')\n",
    "for index, row in df.iterrows():\n",
    "    #print(str(index) + \" | \" + row.Idfu)\n",
    "    #cur.execute\n",
    "    cur.execute(\"\"\"INSERT INTO thunder (ID, PatientID, Age, Clinical_T_Stage, Clinical_N_Stage, who, Sex, DoB, Date_Intake, First_Fraction, Last_Fraction, TotalDose, surgery, surgery_type, surgery_date, Pathologic_T_stage, Pathologic_N_stage, TRG) \n",
    "        VALUES (%s, %s, %s, %s, %s, %s, %s, %s, %s, %s, %s, %s, %s, %s, %s, %s, %s, %s)\"\"\",\n",
    "          (index, row.Idfu, row.Age, row.cT, row.cN, row.WHO, row.Gender, row[\"Date.of.birth\"], row[\"Date.Intake\"], row.FF, row.LF, row.TotalDose, row.OK, row[\"Ok.type\"], row[\"Date.OK\"], row[\"pT.stage\"], row[\"pN.stage\"], row[\"TRG..1.4.\"]))\n",
    "conn.commit()"
   ]
  },
  {
   "cell_type": "code",
   "execution_count": null,
   "metadata": {},
   "outputs": [],
   "source": [
    "# Connect to an existing database\n",
    "conn = psycopg2.connect(\"host=postgresdb user=postgres dbname=mydata password=postgres\")\n",
    "cur = conn.cursor()\n",
    "\n",
    "cur.execute(\"\"\"SELECT *\n",
    "    FROM thunder;\"\"\")\n",
    "\n",
    "results = cur.fetchall()\n",
    "conn.close()\n",
    "\n",
    "for row in results:\n",
    "    print(row)"
   ]
  },
  {
   "cell_type": "code",
   "execution_count": null,
   "metadata": {},
   "outputs": [],
   "source": []
  }
 ],
 "metadata": {
  "kernelspec": {
   "display_name": "Python 2",
   "language": "python",
   "name": "python2"
  },
  "language_info": {
   "codemirror_mode": {
    "name": "ipython",
    "version": 2
   },
   "file_extension": ".py",
   "mimetype": "text/x-python",
   "name": "python",
   "nbconvert_exporter": "python",
   "pygments_lexer": "ipython2",
   "version": "2.7.15"
  }
 },
 "nbformat": 4,
 "nbformat_minor": 2
}
