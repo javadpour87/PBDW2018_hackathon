{
 "cells": [
  {
   "cell_type": "markdown",
   "metadata": {},
   "source": [
    "# Data import\n",
    "\n",
    "To connect and get a terminal to the postgres docker, run `docker exec -it pbdw2018_hackathon-master_data_postgres_1 /bin/bash`\n",
    "\n",
    "You can then do things like\n",
    "\n",
    "dropdb mydata -U postgres\n",
    "\n",
    "or\n",
    "\n",
    "psql postgres -U postgres\n"
   ]
  },
  {
   "cell_type": "code",
   "execution_count": null,
   "metadata": {},
   "outputs": [],
   "source": [
    "import psycopg2\n",
    "from psycopg2.extensions import ISOLATION_LEVEL_AUTOCOMMIT\n",
    "import csv\n",
    "\n",
    "# Connect to an existing database\n",
    "try:\n",
    "    conn = psycopg2.connect(\"host=postgresdb user=postgres password=postgres\")\n",
    "except:\n",
    "    print (\"Error:  unable to connect to the database\")\n",
    "conn.set_isolation_level(ISOLATION_LEVEL_AUTOCOMMIT)\n",
    "\n",
    "# Open a cursor to perform database operations\n",
    "cur = conn.cursor()\n",
    "\n",
    "# Execute a command to end all connections to the db\n",
    "try:\n",
    "    cur.execute(\"SELECT pg_terminate_backend(pg_stat_activity.pid) FROM pg_stat_activity WHERE pg_stat_activity.datname = 'mydata' AND pid <> pg_backend_pid();\")\n",
    "except:\n",
    "    print(\"Error killing database connections, perhaps it does not exist?\")\n",
    "    \n",
    "# Execute a command to drop the table\n",
    "try:\n",
    "    cur.execute(\"DROP DATABASE mydata\")\n",
    "except:\n",
    "    print(\"Error while dropping database, perhaps it does not exist?\")\n",
    "\n",
    "# Execute a command to create a new table\n",
    "try:\n",
    "    cur.execute(\"CREATE DATABASE mydata;\")\n",
    "except:\n",
    "    print(\"Error while creating database, does it already exist?\")\n",
    "# Close database connection\n",
    "conn.close()"
   ]
  },
  {
   "cell_type": "code",
   "execution_count": null,
   "metadata": {},
   "outputs": [],
   "source": [
    "# Connect to an existing database\n",
    "conn = psycopg2.connect(\"host=postgresdb user=postgres dbname=mydata password=postgres\")\n",
    "conn.set_isolation_level(ISOLATION_LEVEL_AUTOCOMMIT)\n",
    "# Open a cursor to perform database operations\n",
    "cur = conn.cursor()\n",
    "# Execute a command: this creates a new table\n",
    "try:\n",
    "    cur.execute(\"\"\"CREATE TABLE PBDWHackathon2018 (\n",
    "    ID text PRIMARY KEY,\n",
    "    PatientID text,\n",
    "    Age text,\n",
    "    Clinical_T_Stage text,\n",
    "    Clinical_N_Stage text,\n",
    "    Clinical_M_Stage text,\n",
    "    Overall_Stage text,\n",
    "    Histology text,\n",
    "    Gender text,\n",
    "    SurvivalTime text,\n",
    "    DeadStatus text\n",
    "    );\n",
    "    \"\"\")\n",
    "except:\n",
    "    print(\"Error while creating table, does it already exist?\")\n",
    "# Close database connection\n",
    "conn.close()"
   ]
  },
  {
   "cell_type": "code",
   "execution_count": null,
   "metadata": {},
   "outputs": [],
   "source": [
    "import pandas\n",
    "# Connect to an existing database\n",
    "conn = psycopg2.connect(\"host=postgresdb user=postgres dbname=mydata password=postgres\")\n",
    "cur = conn.cursor()\n",
    "\n",
    "#open CSV file\n",
    "df = pandas.read_csv('Clinical1.csv')\n",
    "for index, row in df.iterrows():\n",
    "    #print(str(index) + \" | \" + row.Idfu)\n",
    "    #cur.execute\n",
    "    cur.execute(\"\"\"INSERT INTO PBDWHackathon2018 (ID, PatientID, Age, Clinical_T_Stage, Clinical_N_Stage, Clinical_M_Stage, Overall_Stage, Histology, Gender, SurvivalTime, DeadStatus) \n",
    "        VALUES (%s, %s, %s, %s, %s, %s, %s, %s, %s, %s, %s)\"\"\",\n",
    "          (index, row.PatientID, row.Age, row[\"Clinical.T.Stage\"], row[\"Clinical.N.Stage\"], row[\"Clinical.M.Stage\"], row[\"Overall.Ajcc.Stage\"], row.Histology, row.Sex, row[\"Survival.Time.Days\"], row[\"deadstatus.event\"]))\n",
    "conn.commit()"
   ]
  },
  {
   "cell_type": "code",
   "execution_count": null,
   "metadata": {},
   "outputs": [],
   "source": [
    "# Connect to an existing database\n",
    "conn = psycopg2.connect(\"host=postgresdb user=postgres dbname=mydata password=postgres\")\n",
    "cur = conn.cursor()\n",
    "\n",
    "cur.execute(\"\"\"SELECT *\n",
    "    FROM PBDWHackathon2018;\"\"\")\n",
    "\n",
    "results = cur.fetchall()\n",
    "conn.close()\n",
    "\n",
    "for row in results:\n",
    "    print(row)"
   ]
  },
  {
   "cell_type": "code",
   "execution_count": null,
   "metadata": {},
   "outputs": [],
   "source": []
  }
 ],
 "metadata": {
  "kernelspec": {
   "display_name": "Python 2",
   "language": "python",
   "name": "python2"
  },
  "language_info": {
   "codemirror_mode": {
    "name": "ipython",
    "version": 2
   },
   "file_extension": ".py",
   "mimetype": "text/x-python",
   "name": "python",
   "nbconvert_exporter": "python",
   "pygments_lexer": "ipython2",
   "version": "2.7.15"
  }
 },
 "nbformat": 4,
 "nbformat_minor": 2
}
